{
 "cells": [
  {
   "cell_type": "markdown",
   "metadata": {},
   "source": [
    "Dataset from: https://www.kaggle.com/datasets/fanconic/skin-cancer-malignant-vs-benign/data"
   ]
  },
  {
   "cell_type": "code",
   "execution_count": 9,
   "metadata": {},
   "outputs": [],
   "source": [
    "import torch\n",
    "from torch import nn\n",
    "from torch.utils.data import Dataset, DataLoader\n",
    "from torchvision.transforms import ToTensor\n",
    "from torchvision.io import read_image\n",
    "import os\n",
    "import numpy as np"
   ]
  },
  {
   "cell_type": "markdown",
   "metadata": {},
   "source": [
    "Define a class to save the dataset"
   ]
  },
  {
   "cell_type": "code",
   "execution_count": 10,
   "metadata": {},
   "outputs": [],
   "source": [
    "class Dataset(Dataset):\n",
    "    def __init__(self, data):\n",
    "        self.x = data[:,0]\n",
    "        self.y = data[:,-1]\n",
    "\n",
    "    def __len__(self):\n",
    "        return len(self.x)\n",
    "\n",
    "    def __getitem__(self, idx):\n",
    "        y = self.y[idx]\n",
    "        img_x = read_image(self.x[idx])\n",
    "        return img_x/255, int(y)"
   ]
  },
  {
   "cell_type": "markdown",
   "metadata": {},
   "source": [
    "Define a function that saves the path of each image with it's corresponding label inside the `data` list.\n",
    "\n",
    "`data`:\n",
    "<p>[['train/benign/233.jpg' '0']<br>\n",
    " ['train/benign/1553.jpg' '0']<br>\n",
    " ['train/benign/435.jpg' '0']<br>\n",
    " ...<br>\n",
    " ['train/malignant/1413.jpg' '1']<br>\n",
    " ['train/malignant/378.jpg' '1']<br>\n",
    " ['train/malignant/890.jpg' '1']]</p>"
   ]
  },
  {
   "cell_type": "code",
   "execution_count": 11,
   "metadata": {},
   "outputs": [],
   "source": [
    "#Loads images from the determined path and labels them 1 if they\n",
    "#are on the 'malignant' folder or 0 if they are ont the benign folder\n",
    "def load_images_and_labels(folder_path, target_size=(224, 224)):\n",
    "    data = []\n",
    "    for filename in os.listdir(folder_path):\n",
    "        img_path = os.path.join(folder_path, filename)\n",
    "        if os.path.isfile(img_path):\n",
    "            label = 1 if \"malignant\" in img_path else 0\n",
    "            data.append((img_path, label))\n",
    "\n",
    "    return np.array(data)"
   ]
  },
  {
   "cell_type": "markdown",
   "metadata": {},
   "source": [
    "Save train and test data"
   ]
  },
  {
   "cell_type": "code",
   "execution_count": 12,
   "metadata": {},
   "outputs": [],
   "source": [
    "#Save train and test data\n",
    "train_data = np.concatenate((load_images_and_labels('dataset/train/benign'), load_images_and_labels('dataset/train/malignant')))\n",
    "test_data = np.concatenate((load_images_and_labels('dataset/test/benign'), load_images_and_labels('dataset/test/malignant')))\n",
    "\n",
    "#Save train and test data in Dataset objects\n",
    "train_dataset = Dataset(train_data)\n",
    "test_dataset = Dataset(test_data)\n",
    "\n",
    "#Create Dataloaders (Dataloader iterates over the dataset batch by batch)\n",
    "train_dataloader = DataLoader(train_dataset, batch_size=64, shuffle=True)\n",
    "test_dataloader = DataLoader(test_dataset, batch_size=64, shuffle=True)"
   ]
  },
  {
   "cell_type": "markdown",
   "metadata": {},
   "source": [
    "Define wich device the model will train on."
   ]
  },
  {
   "cell_type": "code",
   "execution_count": 13,
   "metadata": {},
   "outputs": [
    {
     "name": "stdout",
     "output_type": "stream",
     "text": [
      "Using cpu device\n"
     ]
    }
   ],
   "source": [
    "device = (\n",
    "    \"cuda\"\n",
    "    if torch.cuda.is_available()\n",
    "    else \"cpu\"\n",
    ")\n",
    "print(f\"Using {device} device\")"
   ]
  },
  {
   "cell_type": "markdown",
   "metadata": {},
   "source": [
    "Define the neural network"
   ]
  },
  {
   "cell_type": "code",
   "execution_count": 14,
   "metadata": {},
   "outputs": [],
   "source": [
    "class NeuralNetwork(nn.Module):\n",
    "    def __init__(self):\n",
    "        super(NeuralNetwork, self).__init__()\n",
    "        self.softmax = nn.Softmax()\n",
    "        self.internal_nn_stack = nn.Sequential(        \n",
    "            nn.Conv2d(3, 96, (11,11), stride=4), \n",
    "            nn.MaxPool2d((3,3)),\n",
    "            nn.Conv2d(96, 256, (3,3), padding=2), \n",
    "            nn.MaxPool2d((3,3), stride= 2), \n",
    "            nn.Conv2d(256, 256, (2,2), padding=2),\n",
    "            nn.MaxPool2d((3,3), stride= 2),\n",
    "            nn.Flatten(), \n",
    "\n",
    "            nn.Linear(6400, 3000), \n",
    "            nn.ReLU(),\n",
    "            nn.Linear(3000, 300), \n",
    "            nn.ReLU(),\n",
    "            nn.Linear(300, 30),\n",
    "            nn.ReLU(),\n",
    "            nn.Linear(30, 2)\n",
    "        )\n",
    "\n",
    "    def forward(self, x):\n",
    "        logits = self.internal_nn_stack(x)\n",
    "        return logits"
   ]
  },
  {
   "cell_type": "markdown",
   "metadata": {},
   "source": [
    "Define optimization loops"
   ]
  },
  {
   "cell_type": "code",
   "execution_count": 15,
   "metadata": {},
   "outputs": [],
   "source": [
    "def train_loop(dataloader, model, loss_fn, optimizer):\n",
    "    size = len(dataloader.dataset)\n",
    "    model.train()\n",
    "    for batch, (X, y) in enumerate(dataloader):\n",
    "        pred = model(X)\n",
    "        loss = loss_fn(pred, y)\n",
    "        loss.backward()\n",
    "        optimizer.step()\n",
    "        optimizer.zero_grad()\n",
    "\n",
    "        if batch % 100 == 0:\n",
    "            loss, current = loss.item(), batch * batch_size + len(X)\n",
    "            print(f\"loss: {loss:>7f}  [{current:>5d}/{size:>5d}]\")\n",
    "\n",
    "def test_loop(dataloader, model, loss_fn):\n",
    "    model.eval()\n",
    "    size = len(dataloader.dataset)\n",
    "    num_batches = len(dataloader)\n",
    "    test_loss, correct = 0, 0\n",
    "\n",
    "    with torch.no_grad():\n",
    "        for X, y in dataloader:\n",
    "            pred = model(X)\n",
    "            test_loss += loss_fn(pred, y).item()\n",
    "            correct += (pred.argmax(1) == y).type(torch.float).sum().item()\n",
    "\n",
    "    test_loss /= num_batches\n",
    "    correct /= size\n",
    "    print(f\"Test Error: \\n Accuracy: {(100*correct):>0.1f}%, Avg loss: {test_loss:>8f} \\n\")"
   ]
  },
  {
   "cell_type": "code",
   "execution_count": 16,
   "metadata": {},
   "outputs": [
    {
     "name": "stdout",
     "output_type": "stream",
     "text": [
      "Epoch 1\n",
      "-------------------------------\n",
      "loss: 0.692277  [   64/ 2637]\n",
      "Test Error: \n",
      " Accuracy: 68.6%, Avg loss: 0.677687 \n",
      "\n",
      "Epoch 2\n",
      "-------------------------------\n",
      "loss: 0.676856  [   64/ 2637]\n",
      "Test Error: \n",
      " Accuracy: 45.5%, Avg loss: 0.767749 \n",
      "\n",
      "Epoch 3\n",
      "-------------------------------\n",
      "loss: 0.788127  [   64/ 2637]\n",
      "Test Error: \n",
      " Accuracy: 47.1%, Avg loss: 0.697360 \n",
      "\n",
      "Epoch 4\n",
      "-------------------------------\n",
      "loss: 0.697901  [   64/ 2637]\n",
      "Test Error: \n",
      " Accuracy: 69.1%, Avg loss: 0.603728 \n",
      "\n",
      "Epoch 5\n",
      "-------------------------------\n",
      "loss: 0.571380  [   64/ 2637]\n",
      "Test Error: \n",
      " Accuracy: 73.9%, Avg loss: 0.503163 \n",
      "\n",
      "Epoch 6\n",
      "-------------------------------\n",
      "loss: 0.629552  [   64/ 2637]\n",
      "Test Error: \n",
      " Accuracy: 68.0%, Avg loss: 0.531176 \n",
      "\n",
      "Epoch 7\n",
      "-------------------------------\n",
      "loss: 0.519648  [   64/ 2637]\n",
      "Test Error: \n",
      " Accuracy: 55.9%, Avg loss: 0.852592 \n",
      "\n",
      "Epoch 8\n",
      "-------------------------------\n",
      "loss: 0.717821  [   64/ 2637]\n",
      "Test Error: \n",
      " Accuracy: 79.7%, Avg loss: 0.392050 \n",
      "\n",
      "Epoch 9\n",
      "-------------------------------\n",
      "loss: 0.371290  [   64/ 2637]\n",
      "Test Error: \n",
      " Accuracy: 78.6%, Avg loss: 0.432009 \n",
      "\n",
      "Epoch 10\n",
      "-------------------------------\n",
      "loss: 0.398461  [   64/ 2637]\n",
      "Test Error: \n",
      " Accuracy: 78.2%, Avg loss: 0.398750 \n",
      "\n",
      "Done!\n"
     ]
    }
   ],
   "source": [
    "#Instantiate the model\n",
    "model = NeuralNetwork().to(device)\n",
    "\n",
    "#Define the hyperparameters\n",
    "learning_rate = 1e-3\n",
    "batch_size = 64\n",
    "epochs = 10\n",
    "\n",
    "#Define what loss function will be used\n",
    "loss_fn = nn.CrossEntropyLoss()\n",
    "\n",
    "#Define what optimization algorithm will be used\n",
    "optimizer = torch.optim.Adam(model.parameters(), lr=learning_rate)\n",
    "\n",
    "for t in range(epochs):\n",
    "    print(f\"Epoch {t+1}\\n-------------------------------\")\n",
    "    train_loop(train_dataloader, model, loss_fn, optimizer)\n",
    "    test_loop(test_dataloader, model, loss_fn)\n",
    "\n",
    "print(\"Done!\")"
   ]
  },
  {
   "cell_type": "markdown",
   "metadata": {},
   "source": [
    "Save model"
   ]
  },
  {
   "cell_type": "code",
   "execution_count": 17,
   "metadata": {},
   "outputs": [],
   "source": [
    "torch.save(model, 'model.pth')"
   ]
  }
 ],
 "metadata": {
  "kernelspec": {
   "display_name": "Python 3",
   "language": "python",
   "name": "python3"
  },
  "language_info": {
   "codemirror_mode": {
    "name": "ipython",
    "version": 3
   },
   "file_extension": ".py",
   "mimetype": "text/x-python",
   "name": "python",
   "nbconvert_exporter": "python",
   "pygments_lexer": "ipython3",
   "version": "3.10.12"
  }
 },
 "nbformat": 4,
 "nbformat_minor": 2
}
